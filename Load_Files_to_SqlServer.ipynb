{
 "cells": [
  {
   "cell_type": "markdown",
   "id": "ba486c2f",
   "metadata": {},
   "source": [
    "## Importamos los datos"
   ]
  },
  {
   "cell_type": "code",
   "execution_count": 1,
   "id": "61cc83e3",
   "metadata": {},
   "outputs": [],
   "source": [
    "#Load Libraries/Modules\n",
    "import pandas as pd\n",
    "import pyodbc as pyodbc\n",
    "import warnings\n",
    "warnings.filterwarnings('ignore')"
   ]
  },
  {
   "cell_type": "code",
   "execution_count": 2,
   "id": "832d5068",
   "metadata": {},
   "outputs": [
    {
     "name": "stdout",
     "output_type": "stream",
     "text": [
      "Listado_Proveedores_12-03.csv\n",
      "C:/Users/TITAN/Downloads/Listado_Proveedores_12-03.csv\n"
     ]
    }
   ],
   "source": [
    "## https://www.datosabiertos.gob.pe/sites/default/files/Listado_Proveedores_12-03.csv\n",
    "file_name='Listado_Proveedores_12-03.csv'  \n",
    "print(file_name)\n",
    "ruta=r'C:/Users/TITAN/Downloads'\n",
    "\n",
    "file=ruta+'/'+file_name\n",
    "print(file)"
   ]
  },
  {
   "cell_type": "code",
   "execution_count": 3,
   "id": "a5abc94f",
   "metadata": {},
   "outputs": [],
   "source": [
    "df = pd.read_csv(file,error_bad_lines=False,delimiter=';',engine='python',encoding = 'latin-1') \n",
    "\n",
    "warnings.filterwarnings('ignore')"
   ]
  },
  {
   "cell_type": "code",
   "execution_count": 4,
   "id": "f4fe6cfe",
   "metadata": {},
   "outputs": [
    {
     "data": {
      "text/plain": [
       "\"\\nimport csv\\nwith open(file, 'r') as file:\\n    reader = csv.reader(file)\\n    for row in reader:\\n        print(row)\\n\""
      ]
     },
     "execution_count": 4,
     "metadata": {},
     "output_type": "execute_result"
    }
   ],
   "source": [
    "'''\n",
    "import csv\n",
    "with open(file, 'r') as file:\n",
    "    reader = csv.reader(file)\n",
    "    for row in reader:\n",
    "        print(row)\n",
    "'''"
   ]
  },
  {
   "cell_type": "code",
   "execution_count": 5,
   "id": "4ddca7e3",
   "metadata": {},
   "outputs": [
    {
     "data": {
      "text/html": [
       "<div>\n",
       "<style scoped>\n",
       "    .dataframe tbody tr th:only-of-type {\n",
       "        vertical-align: middle;\n",
       "    }\n",
       "\n",
       "    .dataframe tbody tr th {\n",
       "        vertical-align: top;\n",
       "    }\n",
       "\n",
       "    .dataframe thead th {\n",
       "        text-align: right;\n",
       "    }\n",
       "</style>\n",
       "<table border=\"1\" class=\"dataframe\">\n",
       "  <thead>\n",
       "    <tr style=\"text-align: right;\">\n",
       "      <th></th>\n",
       "      <th>Ubigeo</th>\n",
       "      <th>Fecha-Actualizacion</th>\n",
       "      <th>Departamento</th>\n",
       "      <th>Provincia</th>\n",
       "      <th>Distrito</th>\n",
       "      <th>Ruc</th>\n",
       "      <th>Proveedor</th>\n",
       "      <th>Modalidad</th>\n",
       "      <th>DomicilioLegal</th>\n",
       "      <th>CorreoElectronico</th>\n",
       "      <th>Telefono</th>\n",
       "    </tr>\n",
       "  </thead>\n",
       "  <tbody>\n",
       "    <tr>\n",
       "      <th>0</th>\n",
       "      <td>10201</td>\n",
       "      <td>2021-03-12</td>\n",
       "      <td>AMAZONAS</td>\n",
       "      <td>BAGUA</td>\n",
       "      <td>BAGUA</td>\n",
       "      <td>10167637316</td>\n",
       "      <td>CONSORCIO ALIMENTOS BAGUA</td>\n",
       "      <td>PRODUCTOS</td>\n",
       "      <td>JR. 28 DE JULIO S/N C-02 SECTOR EL TOMAQUE.</td>\n",
       "      <td>consorcioalimentosbagua@gmail.com</td>\n",
       "      <td>NaN</td>\n",
       "    </tr>\n",
       "    <tr>\n",
       "      <th>1</th>\n",
       "      <td>10201</td>\n",
       "      <td>2021-03-12</td>\n",
       "      <td>AMAZONAS</td>\n",
       "      <td>BAGUA</td>\n",
       "      <td>BAGUA</td>\n",
       "      <td>10412710156</td>\n",
       "      <td>DELGADO OLANO MARIBEL ROXANA</td>\n",
       "      <td>PRODUCTOS</td>\n",
       "      <td>Jirón La Libertad N° 217</td>\n",
       "      <td>roxana.del@hotmail.com</td>\n",
       "      <td>NaN</td>\n",
       "    </tr>\n",
       "    <tr>\n",
       "      <th>2</th>\n",
       "      <td>10201</td>\n",
       "      <td>2021-03-12</td>\n",
       "      <td>AMAZONAS</td>\n",
       "      <td>BAGUA</td>\n",
       "      <td>BAGUA</td>\n",
       "      <td>10427262923</td>\n",
       "      <td>CONSORCIO AMAZONAS</td>\n",
       "      <td>PRODUCTOS</td>\n",
       "      <td>JR. TUMBES N° 288</td>\n",
       "      <td>emontezafarro@gmail.com</td>\n",
       "      <td>NaN</td>\n",
       "    </tr>\n",
       "    <tr>\n",
       "      <th>3</th>\n",
       "      <td>10701</td>\n",
       "      <td>2021-03-12</td>\n",
       "      <td>AMAZONAS</td>\n",
       "      <td>UTCUBAMBA</td>\n",
       "      <td>BAGUA GRANDE</td>\n",
       "      <td>20493681274</td>\n",
       "      <td>INDUSTRIAS ALIMENTARIAS SAN JUAN S.A.C.</td>\n",
       "      <td>PRODUCTOS</td>\n",
       "      <td>JR LIMA N°440 MZ E-2 LT3-SEC. LA ESPERANZA</td>\n",
       "      <td>corporativo@indusanperu.com</td>\n",
       "      <td>14609146</td>\n",
       "    </tr>\n",
       "    <tr>\n",
       "      <th>4</th>\n",
       "      <td>10702</td>\n",
       "      <td>2021-03-12</td>\n",
       "      <td>AMAZONAS</td>\n",
       "      <td>UTCUBAMBA</td>\n",
       "      <td>CAJARURO</td>\n",
       "      <td>20561337633</td>\n",
       "      <td>JOSFRANC SOCIEDAD ANONIMA CERRADA</td>\n",
       "      <td>PRODUCTOS</td>\n",
       "      <td>JR. COMERCIO 318</td>\n",
       "      <td>JOSFRANCSAC@HOTMAIL.COM</td>\n",
       "      <td>41263102</td>\n",
       "    </tr>\n",
       "  </tbody>\n",
       "</table>\n",
       "</div>"
      ],
      "text/plain": [
       "   Ubigeo Fecha-Actualizacion Departamento  Provincia      Distrito  \\\n",
       "0   10201          2021-03-12     AMAZONAS      BAGUA         BAGUA   \n",
       "1   10201          2021-03-12     AMAZONAS      BAGUA         BAGUA   \n",
       "2   10201          2021-03-12     AMAZONAS      BAGUA         BAGUA   \n",
       "3   10701          2021-03-12     AMAZONAS  UTCUBAMBA  BAGUA GRANDE   \n",
       "4   10702          2021-03-12     AMAZONAS  UTCUBAMBA      CAJARURO   \n",
       "\n",
       "           Ruc                                Proveedor  Modalidad  \\\n",
       "0  10167637316                CONSORCIO ALIMENTOS BAGUA  PRODUCTOS   \n",
       "1  10412710156             DELGADO OLANO MARIBEL ROXANA  PRODUCTOS   \n",
       "2  10427262923                       CONSORCIO AMAZONAS  PRODUCTOS   \n",
       "3  20493681274  INDUSTRIAS ALIMENTARIAS SAN JUAN S.A.C.  PRODUCTOS   \n",
       "4  20561337633        JOSFRANC SOCIEDAD ANONIMA CERRADA  PRODUCTOS   \n",
       "\n",
       "                                DomicilioLegal  \\\n",
       "0  JR. 28 DE JULIO S/N C-02 SECTOR EL TOMAQUE.   \n",
       "1                     Jirón La Libertad N° 217   \n",
       "2                            JR. TUMBES N° 288   \n",
       "3   JR LIMA N°440 MZ E-2 LT3-SEC. LA ESPERANZA   \n",
       "4                             JR. COMERCIO 318   \n",
       "\n",
       "                   CorreoElectronico  Telefono  \n",
       "0  consorcioalimentosbagua@gmail.com       NaN  \n",
       "1             roxana.del@hotmail.com       NaN  \n",
       "2            emontezafarro@gmail.com       NaN  \n",
       "3        corporativo@indusanperu.com  14609146  \n",
       "4            JOSFRANCSAC@HOTMAIL.COM  41263102  "
      ]
     },
     "execution_count": 5,
     "metadata": {},
     "output_type": "execute_result"
    }
   ],
   "source": [
    "df.head(5)"
   ]
  },
  {
   "cell_type": "code",
   "execution_count": 6,
   "id": "7b686d66",
   "metadata": {},
   "outputs": [
    {
     "data": {
      "text/plain": [
       "(185, 11)"
      ]
     },
     "execution_count": 6,
     "metadata": {},
     "output_type": "execute_result"
    }
   ],
   "source": [
    "df.shape"
   ]
  },
  {
   "cell_type": "code",
   "execution_count": 7,
   "id": "00eee086",
   "metadata": {},
   "outputs": [
    {
     "name": "stdout",
     "output_type": "stream",
     "text": [
      "-----------------\n",
      "Ubigeo                  int64\n",
      "Fecha-Actualizacion    object\n",
      "Departamento           object\n",
      "Provincia              object\n",
      "Distrito               object\n",
      "Ruc                     int64\n",
      "Proveedor              object\n",
      "Modalidad              object\n",
      "DomicilioLegal         object\n",
      "CorreoElectronico      object\n",
      "Telefono               object\n",
      "dtype: object\n"
     ]
    }
   ],
   "source": [
    "#detail_column=df.info()\n",
    "detail_column=df.dtypes\n",
    "print('-----------------')\n",
    "type(detail_column)\n",
    "print(detail_column)"
   ]
  },
  {
   "cell_type": "code",
   "execution_count": 8,
   "id": "31228fd6",
   "metadata": {},
   "outputs": [],
   "source": [
    "# Convert entire DataFrame to string\n",
    "df=df.applymap(str)\n",
    "#print(df.dtypes)"
   ]
  },
  {
   "cell_type": "code",
   "execution_count": 9,
   "id": "1bce5161",
   "metadata": {},
   "outputs": [],
   "source": [
    "# Limpiamos las columnas\n",
    "df.columns = df.columns.str.replace('[#,@,&,°]', '')\n",
    "df.columns = df.columns.str.replace('[(,)]', ' ')\n",
    "df.columns = df.columns.str.replace('[á]', 'a')\n",
    "df.columns = df.columns.str.replace('[é]', 'e')\n",
    "df.columns = df.columns.str.replace('[í]', 'i')\n",
    "df.columns = df.columns.str.replace('[ó]', 'o')\n",
    "df.columns = df.columns.str.replace('[ú]', 'u')\n",
    "\n",
    "df.columns = df.columns.str.replace('[ñ]', 'ni')\n",
    "df.columns = df.columns.str.replace(' ', '_')\n",
    "df.columns = df.columns.str.replace('-', '_')\n",
    "#\n",
    "df.columns = df.columns.str.lower()\n",
    "warnings.filterwarnings('ignore')"
   ]
  },
  {
   "cell_type": "code",
   "execution_count": 10,
   "id": "f5298937",
   "metadata": {},
   "outputs": [
    {
     "name": "stdout",
     "output_type": "stream",
     "text": [
      "ubigeo                 object\n",
      "fecha_actualizacion    object\n",
      "departamento           object\n",
      "provincia              object\n",
      "distrito               object\n",
      "ruc                    object\n",
      "proveedor              object\n",
      "modalidad              object\n",
      "domiciliolegal         object\n",
      "correoelectronico      object\n",
      "telefono               object\n",
      "dtype: object\n"
     ]
    }
   ],
   "source": [
    "print(df.dtypes)"
   ]
  },
  {
   "cell_type": "markdown",
   "id": "1c2c9d93",
   "metadata": {},
   "source": [
    "## Conectamos con SQL"
   ]
  },
  {
   "cell_type": "code",
   "execution_count": 11,
   "id": "0a627414",
   "metadata": {},
   "outputs": [],
   "source": [
    "#Conexion SQL Server\n",
    "import pyodbc as pyodbc\n",
    "sql_conn = pyodbc.connect('DRIVER={ODBC Driver 17 for SQL Server};\\\n",
    "                            SERVER=localhost;\\\n",
    "                            DATABASE=ACADEMY;\\\n",
    "                            Trusted_Connection=yes') \n",
    "cursor = sql_conn.cursor()"
   ]
  },
  {
   "cell_type": "code",
   "execution_count": 12,
   "id": "bc38848b",
   "metadata": {},
   "outputs": [
    {
     "data": {
      "text/plain": [
       "'\\ndrop table if exists ACADEMY.dbo.LISTADO_PROVEEDORES\\n'"
      ]
     },
     "execution_count": 12,
     "metadata": {},
     "output_type": "execute_result"
    }
   ],
   "source": [
    "#\n",
    "query_drop_table = \"\"\"\n",
    "drop table if exists ACADEMY.dbo.LISTADO_PROVEEDORES\n",
    "\"\"\"\n",
    "query_drop_table"
   ]
  },
  {
   "cell_type": "code",
   "execution_count": 13,
   "id": "26cd0252",
   "metadata": {},
   "outputs": [],
   "source": [
    "cursor.execute(query_drop_table)\n",
    "sql_conn.commit()"
   ]
  },
  {
   "cell_type": "code",
   "execution_count": 14,
   "id": "8f5147d2",
   "metadata": {},
   "outputs": [],
   "source": [
    "#Creamos la tabla\n",
    "# Si la tabla no existe , se crea :\n",
    "query_create_table = \"\"\"\n",
    "CREATE TABLE dbo.LISTADO_PROVEEDORES (\n",
    "Ubigeo                varchar(250) NULL,\n",
    "Fecha_Actualizacion   varchar(250) NULL,\n",
    "Departamento          varchar(250) NULL,\n",
    "Provincia             varchar(250) NULL,\n",
    "Distrito              varchar(250) NULL,\n",
    "Ruc                   varchar(250) NULL,\n",
    "Proveedor             varchar(250) NULL,\n",
    "Modalidad             varchar(250) NULL,\n",
    "DomicilioLegal        varchar(250) NULL,\n",
    "CorreoElectronico     varchar(250) NULL,\n",
    "Telefono              varchar(250) NULL\n",
    ")\n",
    "\"\"\""
   ]
  },
  {
   "cell_type": "code",
   "execution_count": 15,
   "id": "714a2612",
   "metadata": {},
   "outputs": [],
   "source": [
    "#Creamos la tabla\n",
    "cursor.execute(query_create_table)\n",
    "sql_conn.commit()"
   ]
  },
  {
   "cell_type": "code",
   "execution_count": 16,
   "id": "294d9bb4",
   "metadata": {},
   "outputs": [],
   "source": [
    "#Preparamos la tabla para poder cargarla\n",
    "df_list=df.values.tolist()"
   ]
  },
  {
   "cell_type": "code",
   "execution_count": 17,
   "id": "4d2f7c45",
   "metadata": {},
   "outputs": [
    {
     "data": {
      "text/plain": [
       "'INSERT INTO dbo.LISTADO_PROVEEDORES VALUES (?,?,?,?,?,?,?,?,?,?,?)'"
      ]
     },
     "execution_count": 17,
     "metadata": {},
     "output_type": "execute_result"
    }
   ],
   "source": [
    "#Diseñamos el Query de insert\n",
    "MY_TABLE = 'LISTADO_PROVEEDORES'\n",
    "cols = \",\".join([str(i) for i in df.columns.tolist()])\n",
    "#print(cols) // son 49 campos, son 49 ????\n",
    "insert_to_tmp_tbl_stmt = f\"INSERT INTO dbo.{MY_TABLE} VALUES (?,?,?,?,?,?,?,?,?,?,?)\"\n",
    "insert_to_tmp_tbl_stmt"
   ]
  },
  {
   "cell_type": "markdown",
   "id": "cb5dd55e",
   "metadata": {},
   "source": [
    "## Cargamos a SQL"
   ]
  },
  {
   "cell_type": "code",
   "execution_count": 18,
   "id": "b0a72a1b",
   "metadata": {},
   "outputs": [
    {
     "name": "stdout",
     "output_type": "stream",
     "text": [
      "df_list inserted successfully\n"
     ]
    }
   ],
   "source": [
    "#Cargamos la base de datos a SQL Server\n",
    "try:\n",
    "    for record in df_list:\n",
    "        #print(record)\n",
    "        cursor.execute(insert_to_tmp_tbl_stmt, record)        \n",
    "except Exception as e:\n",
    "    cursor.rollback()\n",
    "    print(e.value)\n",
    "    print('transaction rolled back')\n",
    "else:\n",
    "    print('df_list inserted successfully')\n",
    "    cursor.commit()\n",
    "    #cursor.close()\n",
    "#finally:\n",
    "    #if sql_conn.connected == 1:\n",
    "        #print('connection closed')\n",
    "        #sql_conn.close()"
   ]
  },
  {
   "cell_type": "code",
   "execution_count": 19,
   "id": "b94a4a98",
   "metadata": {},
   "outputs": [],
   "source": [
    "#Validamos que la data se encuentre cargada\n",
    "df_check = pd.read_sql_query('SELECT * FROM LISTADO_PROVEEDORES', sql_conn)"
   ]
  },
  {
   "cell_type": "code",
   "execution_count": 20,
   "id": "a4ed5d27",
   "metadata": {},
   "outputs": [
    {
     "data": {
      "text/html": [
       "<div>\n",
       "<style scoped>\n",
       "    .dataframe tbody tr th:only-of-type {\n",
       "        vertical-align: middle;\n",
       "    }\n",
       "\n",
       "    .dataframe tbody tr th {\n",
       "        vertical-align: top;\n",
       "    }\n",
       "\n",
       "    .dataframe thead th {\n",
       "        text-align: right;\n",
       "    }\n",
       "</style>\n",
       "<table border=\"1\" class=\"dataframe\">\n",
       "  <thead>\n",
       "    <tr style=\"text-align: right;\">\n",
       "      <th></th>\n",
       "      <th>Ubigeo</th>\n",
       "      <th>Fecha_Actualizacion</th>\n",
       "      <th>Departamento</th>\n",
       "      <th>Provincia</th>\n",
       "      <th>Distrito</th>\n",
       "      <th>Ruc</th>\n",
       "      <th>Proveedor</th>\n",
       "      <th>Modalidad</th>\n",
       "      <th>DomicilioLegal</th>\n",
       "      <th>CorreoElectronico</th>\n",
       "      <th>Telefono</th>\n",
       "    </tr>\n",
       "  </thead>\n",
       "  <tbody>\n",
       "    <tr>\n",
       "      <th>0</th>\n",
       "      <td>10201</td>\n",
       "      <td>2021-03-12</td>\n",
       "      <td>AMAZONAS</td>\n",
       "      <td>BAGUA</td>\n",
       "      <td>BAGUA</td>\n",
       "      <td>10167637316</td>\n",
       "      <td>CONSORCIO ALIMENTOS BAGUA</td>\n",
       "      <td>PRODUCTOS</td>\n",
       "      <td>JR. 28 DE JULIO S/N C-02 SECTOR EL TOMAQUE.</td>\n",
       "      <td>consorcioalimentosbagua@gmail.com</td>\n",
       "      <td>nan</td>\n",
       "    </tr>\n",
       "    <tr>\n",
       "      <th>1</th>\n",
       "      <td>10201</td>\n",
       "      <td>2021-03-12</td>\n",
       "      <td>AMAZONAS</td>\n",
       "      <td>BAGUA</td>\n",
       "      <td>BAGUA</td>\n",
       "      <td>10412710156</td>\n",
       "      <td>DELGADO OLANO MARIBEL ROXANA</td>\n",
       "      <td>PRODUCTOS</td>\n",
       "      <td>Jirón La Libertad N° 217</td>\n",
       "      <td>roxana.del@hotmail.com</td>\n",
       "      <td>nan</td>\n",
       "    </tr>\n",
       "    <tr>\n",
       "      <th>2</th>\n",
       "      <td>10201</td>\n",
       "      <td>2021-03-12</td>\n",
       "      <td>AMAZONAS</td>\n",
       "      <td>BAGUA</td>\n",
       "      <td>BAGUA</td>\n",
       "      <td>10427262923</td>\n",
       "      <td>CONSORCIO AMAZONAS</td>\n",
       "      <td>PRODUCTOS</td>\n",
       "      <td>JR. TUMBES N° 288</td>\n",
       "      <td>emontezafarro@gmail.com</td>\n",
       "      <td>nan</td>\n",
       "    </tr>\n",
       "  </tbody>\n",
       "</table>\n",
       "</div>"
      ],
      "text/plain": [
       "  Ubigeo Fecha_Actualizacion Departamento Provincia Distrito          Ruc  \\\n",
       "0  10201          2021-03-12     AMAZONAS     BAGUA    BAGUA  10167637316   \n",
       "1  10201          2021-03-12     AMAZONAS     BAGUA    BAGUA  10412710156   \n",
       "2  10201          2021-03-12     AMAZONAS     BAGUA    BAGUA  10427262923   \n",
       "\n",
       "                      Proveedor  Modalidad  \\\n",
       "0     CONSORCIO ALIMENTOS BAGUA  PRODUCTOS   \n",
       "1  DELGADO OLANO MARIBEL ROXANA  PRODUCTOS   \n",
       "2            CONSORCIO AMAZONAS  PRODUCTOS   \n",
       "\n",
       "                                DomicilioLegal  \\\n",
       "0  JR. 28 DE JULIO S/N C-02 SECTOR EL TOMAQUE.   \n",
       "1                     Jirón La Libertad N° 217   \n",
       "2                            JR. TUMBES N° 288   \n",
       "\n",
       "                   CorreoElectronico Telefono  \n",
       "0  consorcioalimentosbagua@gmail.com      nan  \n",
       "1             roxana.del@hotmail.com      nan  \n",
       "2            emontezafarro@gmail.com      nan  "
      ]
     },
     "execution_count": 20,
     "metadata": {},
     "output_type": "execute_result"
    }
   ],
   "source": [
    "df_check.head(3)"
   ]
  },
  {
   "cell_type": "markdown",
   "id": "8bf85653",
   "metadata": {},
   "source": [
    "# Siguientes pasos\n",
    "1. Descargar los datos de la WEB mediante WebScraping\n",
    "2. Automatizar el proceso mediando Batch / CMD"
   ]
  },
  {
   "cell_type": "code",
   "execution_count": null,
   "id": "aa75c098",
   "metadata": {},
   "outputs": [],
   "source": []
  }
 ],
 "metadata": {
  "kernelspec": {
   "display_name": "Python 3",
   "language": "python",
   "name": "python3"
  },
  "language_info": {
   "codemirror_mode": {
    "name": "ipython",
    "version": 3
   },
   "file_extension": ".py",
   "mimetype": "text/x-python",
   "name": "python",
   "nbconvert_exporter": "python",
   "pygments_lexer": "ipython3",
   "version": "3.8.8"
  }
 },
 "nbformat": 4,
 "nbformat_minor": 5
}
